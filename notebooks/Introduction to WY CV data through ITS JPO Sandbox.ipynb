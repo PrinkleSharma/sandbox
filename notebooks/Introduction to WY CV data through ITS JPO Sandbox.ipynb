{
 "cells": [
  {
   "cell_type": "markdown",
   "metadata": {
    "collapsed": true
   },
   "source": [
    "### The goal of this notebook is to provide a basic example of how to access the USDOT Intelligent Transportation System (ITS) Joint Program Office (JPO) Wyoming Connected Vehcile Pilot data through the Data Program Sandbox.\n",
    "\n",
    "Objective of the notebook\n",
    "- Show how to access WY CV pilot data on the sandbox\n",
    "- Conduct basic analysis with the data\n",
    "\n",
    "----"
   ]
  },
  {
   "cell_type": "markdown",
   "metadata": {},
   "source": [
    "### Load key libraries for the work \n",
    "**You will need to install these libraries before running this notebook**\n",
    "- boto3: AWS python library (http://boto3.readthedocs.io/en/latest/)\n",
    "- pandas: Python Data Analysis Library (http://pandas.pydata.org)"
   ]
  },
  {
   "cell_type": "code",
   "execution_count": 1,
   "metadata": {
    "collapsed": true
   },
   "outputs": [],
   "source": [
    "import boto3\n",
    "import pandas as pd"
   ]
  },
  {
   "cell_type": "markdown",
   "metadata": {},
   "source": [
    "### Create session and client variable for accessing S3"
   ]
  },
  {
   "cell_type": "code",
   "execution_count": 2,
   "metadata": {
    "collapsed": true
   },
   "outputs": [],
   "source": [
    "session = boto3.Session()\n",
    "client = session.client('s3')"
   ]
  },
  {
   "cell_type": "markdown",
   "metadata": {},
   "source": [
    "### List sub folders to determine which times on Aug 15 at 23:46 are avaliable"
   ]
  },
  {
   "cell_type": "code",
   "execution_count": 3,
   "metadata": {},
   "outputs": [
    {
     "name": "stdout",
     "output_type": "stream",
     "text": [
      "17\n",
      "subfolder :  wydot/BSM/20170815T234600645Z/\n",
      "subfolder :  wydot/BSM/20170815T234600656Z/\n",
      "subfolder :  wydot/BSM/20170815T234600667Z/\n",
      "subfolder :  wydot/BSM/20170815T234600674Z/\n",
      "subfolder :  wydot/BSM/20170815T23460069Z/\n",
      "subfolder :  wydot/BSM/20170815T234600715Z/\n",
      "subfolder :  wydot/BSM/20170815T234600722Z/\n",
      "subfolder :  wydot/BSM/20170815T234600734Z/\n",
      "subfolder :  wydot/BSM/20170815T234600753Z/\n",
      "subfolder :  wydot/BSM/20170815T234600761Z/\n",
      "subfolder :  wydot/BSM/20170815T234600769Z/\n",
      "subfolder :  wydot/BSM/20170815T234600783Z/\n",
      "subfolder :  wydot/BSM/20170815T234600861Z/\n",
      "subfolder :  wydot/BSM/20170815T2346008Z/\n",
      "subfolder :  wydot/BSM/20170815T234600902Z/\n",
      "subfolder :  wydot/BSM/20170815T234600914Z/\n",
      "subfolder :  wydot/BSM/20170815T234600962Z/\n"
     ]
    }
   ],
   "source": [
    "result =  client.list_objects(Bucket = 'usdot-its-cvpilot-public-data', Delimiter='/', Prefix='wydot/BSM/20170815T234600')\n",
    "\n",
    "print(len(result.get('CommonPrefixes')))\n",
    "\n",
    "if result.get('CommonPrefixes') is not None:\n",
    "    for o in result.get('CommonPrefixes'):\n",
    "        print ('subfolder : ', o.get('Prefix'))\n",
    "else:\n",
    "    print('No folder found for that prefix')"
   ]
  },
  {
   "cell_type": "markdown",
   "metadata": {},
   "source": [
    "### Function for pulling file keys from the AWS S3 bucket"
   ]
  },
  {
   "cell_type": "code",
   "execution_count": 4,
   "metadata": {
    "collapsed": true
   },
   "outputs": [],
   "source": [
    "def dir_keys(client, bucket, prefix='', filekeys=[]):\n",
    "    \"\"\"\n",
    "    Lists all file keys from a given prefix in an S3 bucket.  If no prefix is given all file keys are returned\n",
    "\n",
    "    :param client: S3 connection object\n",
    "    :param bucket: Name of bucket to search\n",
    "    :param prefix: Prefix for a given folder\n",
    "    :param filekeys: list for filekeys\n",
    "    :return: updated filekey list with added files from search\n",
    "    \"\"\"\n",
    "    paginator = client.get_paginator('list_objects_v2')\n",
    "    for result in paginator.paginate(Bucket=bucket, Delimiter='/', Prefix=prefix):\n",
    "        if result.get('Contents') is not None:\n",
    "            for file in result.get('Contents'):\n",
    "                if file.get('Key') != 'unknownDataType':\n",
    "                    filekeys.append(file.get('Key'))\n",
    "        if result.get('CommonPrefixes') is not None:\n",
    "            for subdir in result.get('CommonPrefixes'):\n",
    "                dir_keys(client, bucket, subdir.get('Prefix'), filekeys)\n",
    "    return filekeys\n"
   ]
  },
  {
   "cell_type": "markdown",
   "metadata": {},
   "source": [
    "### Pull all file keys for Aug 15 2017 at 23:46 and determine the number of files"
   ]
  },
  {
   "cell_type": "code",
   "execution_count": 5,
   "metadata": {},
   "outputs": [
    {
     "name": "stdout",
     "output_type": "stream",
     "text": [
      "Total number of files: 17\n"
     ]
    }
   ],
   "source": [
    "filekeys = dir_keys(client, 'usdot-its-cvpilot-public-data', 'wydot/BSM/20170815T234600')\n",
    "print('Total number of files:', str(len(filekeys)))"
   ]
  },
  {
   "cell_type": "markdown",
   "metadata": {},
   "source": [
    "### Create local directory and download files to do analysis on"
   ]
  },
  {
   "cell_type": "code",
   "execution_count": 6,
   "metadata": {},
   "outputs": [
    {
     "name": "stdout",
     "output_type": "stream",
     "text": [
      "18 Files loaded to /tmp/\n"
     ]
    }
   ],
   "source": [
    "# Create local directory\n",
    "import os\n",
    "cwd = os.getcwd()\n",
    "local_directory = cwd + os.sep + 'tmp' + os.sep\n",
    "if not os.path.exists(local_directory):\n",
    "    os.makedirs(local_directory)\n",
    "\n",
    "# Download Files\n",
    "for file in filekeys:\n",
    "    client.download_file('usdot-its-cvpilot-public-data', file, local_directory + file.split('/')[-1])\n",
    "print('{} Files loaded to {}'.format(str(len(os.listdir(local_directory))), '/tmp/'))"
   ]
  },
  {
   "cell_type": "markdown",
   "metadata": {},
   "source": [
    "### Look at one of the raw JSON files"
   ]
  },
  {
   "cell_type": "code",
   "execution_count": 7,
   "metadata": {},
   "outputs": [
    {
     "name": "stdout",
     "output_type": "stream",
     "text": [
      "{\"metadata\":{\"generatedAt\":\"2017-08-15T23:46:00.645Z[UTC]\",\"logFileName\":\"wsmp_20170505_1550_i80_shane.uper\",\"validSignature\":false,\"sanitized\":true,\"payloadType\":\"us.dot.its.jpo.ode.model.OdeBsmPayload\",\"serialId\":{\"streamId\":\"8cb698be-bbb9-4fa4-b94b-30e7f1794aa6\",\"bundleSize\":1,\"bundleId\":6,\"recordId\":3,\"serialNumber\":0},\"receivedAt\":\"2017-08-15T23:46:00.645Z[UTC]\",\"latency\":2,\"schemaVersion\":1},\"payload\":{\"dataType\":\"us.dot.its.jpo.ode.plugin.j2735.J2735Bsm\",\"data\":{\"coreData\":{\"msgCnt\":56,\"id\":\"16C50000\",\"secMark\":56100,\"position\":{\"latitude\":41.2969523,\"longitude\":-105.5918290,\"elevation\":2195.5},\"accelSet\":{\"accelYaw\":0.00},\"accuracy\":{},\"speed\":20.54,\"heading\":283.7500,\"brakes\":{\"wheelBrakes\":{\"leftFront\":false,\"rightFront\":false,\"unavailable\":true,\"leftRear\":false,\"rightRear\":false},\"traction\":\"unavailable\",\"abs\":\"unavailable\",\"scs\":\"unavailable\",\"brakeBoost\":\"unavailable\",\"auxBrakes\":\"unavailable\"},\"size\":{}},\"partII\":[{\"id\":\"VEHICLESAFETYEXT\",\"value\":{\"pathHistory\":{\"crumbData\":[{\"elevationOffset\":0.2,\"latOffset\":0.0000317,\"lonOffset\":-0.0001890,\"timeOffset\":0.80},{\"elevationOffset\":0.7,\"latOffset\":0.0000913,\"lonOffset\":-0.0007614,\"timeOffset\":3.30},{\"elevationOffset\":1.1,\"latOffset\":0.0000887,\"lonOffset\":-0.0012339,\"timeOffset\":5.50},{\"elevationOffset\":1.3,\"latOffset\":0.0000420,\"lonOffset\":-0.0015682,\"timeOffset\":7.20},{\"elevationOffset\":1.4,\"latOffset\":-0.0000427,\"lonOffset\":-0.0018297,\"timeOffset\":8.70},{\"elevationOffset\":1.6,\"latOffset\":-0.0001698,\"lonOffset\":-0.0020501,\"timeOffset\":10.20},{\"elevationOffset\":1.7,\"latOffset\":-0.0003318,\"lonOffset\":-0.0022185,\"timeOffset\":11.70},{\"elevationOffset\":1.8,\"latOffset\":-0.0005202,\"lonOffset\":-0.0023264,\"timeOffset\":13.20}]},\"pathPrediction\":{\"confidence\":0.0,\"radiusOfCurve\":0.0}}}]},\"schemaVersion\":1},\"schemaVersion\":1}"
     ]
    }
   ],
   "source": [
    "!cat ./tmp/wydot-filtered-bsm-1502840971677.json"
   ]
  },
  {
   "cell_type": "markdown",
   "metadata": {},
   "source": [
    "### Reformat it to make it easier to view"
   ]
  },
  {
   "cell_type": "code",
   "execution_count": 8,
   "metadata": {},
   "outputs": [
    {
     "name": "stdout",
     "output_type": "stream",
     "text": [
      "{'metadata': {'generatedAt': '2017-08-15T23:46:00.674Z[UTC]',\n",
      "              'latency': 8,\n",
      "              'logFileName': 'wsmp_20170505_1550_i80_shane.uper',\n",
      "              'payloadType': 'us.dot.its.jpo.ode.model.OdeBsmPayload',\n",
      "              'receivedAt': '2017-08-15T23:46:00.674Z[UTC]',\n",
      "              'sanitized': True,\n",
      "              'schemaVersion': 1,\n",
      "              'serialId': {'bundleId': 9,\n",
      "                           'bundleSize': 1,\n",
      "                           'recordId': 6,\n",
      "                           'serialNumber': 0,\n",
      "                           'streamId': '8cb698be-bbb9-4fa4-b94b-30e7f1794aa6'},\n",
      "              'validSignature': False},\n",
      " 'payload': {'data': {'coreData': {'accelSet': {'accelYaw': 0.0},\n",
      "                                   'accuracy': {},\n",
      "                                   'brakes': {'abs': 'unavailable',\n",
      "                                              'auxBrakes': 'unavailable',\n",
      "                                              'brakeBoost': 'unavailable',\n",
      "                                              'scs': 'unavailable',\n",
      "                                              'traction': 'unavailable',\n",
      "                                              'wheelBrakes': {'leftFront': False,\n",
      "                                                              'leftRear': False,\n",
      "                                                              'rightFront': False,\n",
      "                                                              'rightRear': False,\n",
      "                                                              'unavailable': True}},\n",
      "                                   'heading': 284.85,\n",
      "                                   'id': '16C50000',\n",
      "                                   'msgCnt': 60,\n",
      "                                   'position': {'elevation': 2195.7,\n",
      "                                                'latitude': 41.2969706,\n",
      "                                                'longitude': -105.5919243},\n",
      "                                   'secMark': 56500,\n",
      "                                   'size': {},\n",
      "                                   'speed': 20.62},\n",
      "                      'partII': [{'id': 'VEHICLESAFETYEXT',\n",
      "                                  'value': {'pathHistory': {'crumbData': [{'elevationOffset': 0.4,\n",
      "                                                                           'latOffset': 5e-05,\n",
      "                                                                           'lonOffset': -0.0002843,\n",
      "                                                                           'timeOffset': 1.2},\n",
      "                                                                          {'elevationOffset': 0.9,\n",
      "                                                                           'latOffset': 0.0001096,\n",
      "                                                                           'lonOffset': -0.0008567,\n",
      "                                                                           'timeOffset': 3.7},\n",
      "                                                                          {'elevationOffset': 1.3,\n",
      "                                                                           'latOffset': 0.000107,\n",
      "                                                                           'lonOffset': -0.0013292,\n",
      "                                                                           'timeOffset': 5.9},\n",
      "                                                                          {'elevationOffset': 1.5,\n",
      "                                                                           'latOffset': 6.03e-05,\n",
      "                                                                           'lonOffset': -0.0016635,\n",
      "                                                                           'timeOffset': 7.6},\n",
      "                                                                          {'elevationOffset': 1.6,\n",
      "                                                                           'latOffset': -2.44e-05,\n",
      "                                                                           'lonOffset': -0.001925,\n",
      "                                                                           'timeOffset': 9.1},\n",
      "                                                                          {'elevationOffset': 1.8,\n",
      "                                                                           'latOffset': -0.0001515,\n",
      "                                                                           'lonOffset': -0.0021454,\n",
      "                                                                           'timeOffset': 10.6},\n",
      "                                                                          {'elevationOffset': 1.9,\n",
      "                                                                           'latOffset': -0.0003135,\n",
      "                                                                           'lonOffset': -0.0023138,\n",
      "                                                                           'timeOffset': 12.1},\n",
      "                                                                          {'elevationOffset': 2.0,\n",
      "                                                                           'latOffset': -0.0005019,\n",
      "                                                                           'lonOffset': -0.0024217,\n",
      "                                                                           'timeOffset': 13.6}]},\n",
      "                                            'pathPrediction': {'confidence': 0.0,\n",
      "                                                               'radiusOfCurve': 0.0}}}]},\n",
      "             'dataType': 'us.dot.its.jpo.ode.plugin.j2735.J2735Bsm',\n",
      "             'schemaVersion': 1},\n",
      " 'schemaVersion': 1}\n"
     ]
    }
   ],
   "source": [
    "import pprint\n",
    "import json\n",
    "data = json.loads(open(\"./tmp/wydot-filtered-bsm-1502840973991.json\").read())\n",
    "pprint.pprint(data)"
   ]
  },
  {
   "cell_type": "markdown",
   "metadata": {},
   "source": [
    "### Combine the JSON files into a single JSON file"
   ]
  },
  {
   "cell_type": "code",
   "execution_count": 9,
   "metadata": {
    "collapsed": true
   },
   "outputs": [],
   "source": [
    "import glob\n",
    "\n",
    "read_files = glob.glob(local_directory + \"*.json\")\n",
    "with open(local_directory + \"merged_file.json\", \"w\") as outfile:\n",
    "    data = []\n",
    "    for f in read_files:\n",
    "        data.append(open(f, \"r\").read())\n",
    "    outfile.write(\"[\" + ','.join(data[1:]) + \"]\")"
   ]
  },
  {
   "cell_type": "markdown",
   "metadata": {},
   "source": [
    "### Load file into data structure and remove partII tag as that information will not be used in this analysis\n",
    "*Data is in J2735 format http://standards.sae.org/j2735_201603/*"
   ]
  },
  {
   "cell_type": "code",
   "execution_count": 10,
   "metadata": {},
   "outputs": [
    {
     "data": {
      "text/html": [
       "<div>\n",
       "<style>\n",
       "    .dataframe thead tr:only-child th {\n",
       "        text-align: right;\n",
       "    }\n",
       "\n",
       "    .dataframe thead th {\n",
       "        text-align: left;\n",
       "    }\n",
       "\n",
       "    .dataframe tbody tr th {\n",
       "        vertical-align: top;\n",
       "    }\n",
       "</style>\n",
       "<table border=\"1\" class=\"dataframe\">\n",
       "  <thead>\n",
       "    <tr style=\"text-align: right;\">\n",
       "      <th></th>\n",
       "      <th>metadata.generatedAt</th>\n",
       "      <th>metadata.latency</th>\n",
       "      <th>metadata.logFileName</th>\n",
       "      <th>metadata.payloadType</th>\n",
       "      <th>metadata.receivedAt</th>\n",
       "      <th>metadata.sanitized</th>\n",
       "      <th>metadata.schemaVersion</th>\n",
       "      <th>metadata.serialId.bundleId</th>\n",
       "      <th>metadata.serialId.bundleSize</th>\n",
       "      <th>metadata.serialId.recordId</th>\n",
       "      <th>...</th>\n",
       "      <th>payload.data.coreData.msgCnt</th>\n",
       "      <th>payload.data.coreData.position.elevation</th>\n",
       "      <th>payload.data.coreData.position.latitude</th>\n",
       "      <th>payload.data.coreData.position.longitude</th>\n",
       "      <th>payload.data.coreData.secMark</th>\n",
       "      <th>payload.data.coreData.speed</th>\n",
       "      <th>payload.data.partII</th>\n",
       "      <th>payload.dataType</th>\n",
       "      <th>payload.schemaVersion</th>\n",
       "      <th>schemaVersion</th>\n",
       "    </tr>\n",
       "  </thead>\n",
       "  <tbody>\n",
       "    <tr>\n",
       "      <th>0</th>\n",
       "      <td>2017-08-15T23:46:00.645Z[UTC]</td>\n",
       "      <td>2</td>\n",
       "      <td>wsmp_20170505_1550_i80_shane.uper</td>\n",
       "      <td>us.dot.its.jpo.ode.model.OdeBsmPayload</td>\n",
       "      <td>2017-08-15T23:46:00.645Z[UTC]</td>\n",
       "      <td>True</td>\n",
       "      <td>1</td>\n",
       "      <td>6</td>\n",
       "      <td>1</td>\n",
       "      <td>3</td>\n",
       "      <td>...</td>\n",
       "      <td>56</td>\n",
       "      <td>2195.5</td>\n",
       "      <td>41.296952</td>\n",
       "      <td>-105.591829</td>\n",
       "      <td>56100</td>\n",
       "      <td>20.54</td>\n",
       "      <td>[{'id': 'VEHICLESAFETYEXT', 'value': {'pathHis...</td>\n",
       "      <td>us.dot.its.jpo.ode.plugin.j2735.J2735Bsm</td>\n",
       "      <td>1</td>\n",
       "      <td>1</td>\n",
       "    </tr>\n",
       "    <tr>\n",
       "      <th>1</th>\n",
       "      <td>2017-08-15T23:46:00.656Z[UTC]</td>\n",
       "      <td>1</td>\n",
       "      <td>wsmp_20170505_1550_i80_shane.uper</td>\n",
       "      <td>us.dot.its.jpo.ode.model.OdeBsmPayload</td>\n",
       "      <td>2017-08-15T23:46:00.656Z[UTC]</td>\n",
       "      <td>True</td>\n",
       "      <td>1</td>\n",
       "      <td>7</td>\n",
       "      <td>1</td>\n",
       "      <td>4</td>\n",
       "      <td>...</td>\n",
       "      <td>58</td>\n",
       "      <td>2195.6</td>\n",
       "      <td>41.296961</td>\n",
       "      <td>-105.591877</td>\n",
       "      <td>56300</td>\n",
       "      <td>20.62</td>\n",
       "      <td>[{'id': 'VEHICLESAFETYEXT', 'value': {'pathHis...</td>\n",
       "      <td>us.dot.its.jpo.ode.plugin.j2735.J2735Bsm</td>\n",
       "      <td>1</td>\n",
       "      <td>1</td>\n",
       "    </tr>\n",
       "    <tr>\n",
       "      <th>2</th>\n",
       "      <td>2017-08-15T23:46:00.667Z[UTC]</td>\n",
       "      <td>1</td>\n",
       "      <td>wsmp_20170505_1550_i80_shane.uper</td>\n",
       "      <td>us.dot.its.jpo.ode.model.OdeBsmPayload</td>\n",
       "      <td>2017-08-15T23:46:00.667Z[UTC]</td>\n",
       "      <td>True</td>\n",
       "      <td>1</td>\n",
       "      <td>8</td>\n",
       "      <td>1</td>\n",
       "      <td>5</td>\n",
       "      <td>...</td>\n",
       "      <td>59</td>\n",
       "      <td>2195.6</td>\n",
       "      <td>41.296966</td>\n",
       "      <td>-105.591900</td>\n",
       "      <td>56400</td>\n",
       "      <td>20.62</td>\n",
       "      <td>[{'id': 'VEHICLESAFETYEXT', 'value': {'pathHis...</td>\n",
       "      <td>us.dot.its.jpo.ode.plugin.j2735.J2735Bsm</td>\n",
       "      <td>1</td>\n",
       "      <td>1</td>\n",
       "    </tr>\n",
       "    <tr>\n",
       "      <th>3</th>\n",
       "      <td>2017-08-15T23:46:00.674Z[UTC]</td>\n",
       "      <td>8</td>\n",
       "      <td>wsmp_20170505_1550_i80_shane.uper</td>\n",
       "      <td>us.dot.its.jpo.ode.model.OdeBsmPayload</td>\n",
       "      <td>2017-08-15T23:46:00.674Z[UTC]</td>\n",
       "      <td>True</td>\n",
       "      <td>1</td>\n",
       "      <td>9</td>\n",
       "      <td>1</td>\n",
       "      <td>6</td>\n",
       "      <td>...</td>\n",
       "      <td>60</td>\n",
       "      <td>2195.7</td>\n",
       "      <td>41.296971</td>\n",
       "      <td>-105.591924</td>\n",
       "      <td>56500</td>\n",
       "      <td>20.62</td>\n",
       "      <td>[{'id': 'VEHICLESAFETYEXT', 'value': {'pathHis...</td>\n",
       "      <td>us.dot.its.jpo.ode.plugin.j2735.J2735Bsm</td>\n",
       "      <td>1</td>\n",
       "      <td>1</td>\n",
       "    </tr>\n",
       "    <tr>\n",
       "      <th>4</th>\n",
       "      <td>2017-08-15T23:46:00.69Z[UTC]</td>\n",
       "      <td>13</td>\n",
       "      <td>wsmp_20170505_1550_i80_shane.uper</td>\n",
       "      <td>us.dot.its.jpo.ode.model.OdeBsmPayload</td>\n",
       "      <td>2017-08-15T23:46:00.69Z[UTC]</td>\n",
       "      <td>True</td>\n",
       "      <td>1</td>\n",
       "      <td>10</td>\n",
       "      <td>1</td>\n",
       "      <td>7</td>\n",
       "      <td>...</td>\n",
       "      <td>62</td>\n",
       "      <td>2195.7</td>\n",
       "      <td>41.296980</td>\n",
       "      <td>-105.591972</td>\n",
       "      <td>56700</td>\n",
       "      <td>20.82</td>\n",
       "      <td>[{'id': 'VEHICLESAFETYEXT', 'value': {'pathHis...</td>\n",
       "      <td>us.dot.its.jpo.ode.plugin.j2735.J2735Bsm</td>\n",
       "      <td>1</td>\n",
       "      <td>1</td>\n",
       "    </tr>\n",
       "  </tbody>\n",
       "</table>\n",
       "<p>5 rows × 37 columns</p>\n",
       "</div>"
      ],
      "text/plain": [
       "            metadata.generatedAt  metadata.latency  \\\n",
       "0  2017-08-15T23:46:00.645Z[UTC]                 2   \n",
       "1  2017-08-15T23:46:00.656Z[UTC]                 1   \n",
       "2  2017-08-15T23:46:00.667Z[UTC]                 1   \n",
       "3  2017-08-15T23:46:00.674Z[UTC]                 8   \n",
       "4   2017-08-15T23:46:00.69Z[UTC]                13   \n",
       "\n",
       "                metadata.logFileName                    metadata.payloadType  \\\n",
       "0  wsmp_20170505_1550_i80_shane.uper  us.dot.its.jpo.ode.model.OdeBsmPayload   \n",
       "1  wsmp_20170505_1550_i80_shane.uper  us.dot.its.jpo.ode.model.OdeBsmPayload   \n",
       "2  wsmp_20170505_1550_i80_shane.uper  us.dot.its.jpo.ode.model.OdeBsmPayload   \n",
       "3  wsmp_20170505_1550_i80_shane.uper  us.dot.its.jpo.ode.model.OdeBsmPayload   \n",
       "4  wsmp_20170505_1550_i80_shane.uper  us.dot.its.jpo.ode.model.OdeBsmPayload   \n",
       "\n",
       "             metadata.receivedAt  metadata.sanitized  metadata.schemaVersion  \\\n",
       "0  2017-08-15T23:46:00.645Z[UTC]                True                       1   \n",
       "1  2017-08-15T23:46:00.656Z[UTC]                True                       1   \n",
       "2  2017-08-15T23:46:00.667Z[UTC]                True                       1   \n",
       "3  2017-08-15T23:46:00.674Z[UTC]                True                       1   \n",
       "4   2017-08-15T23:46:00.69Z[UTC]                True                       1   \n",
       "\n",
       "   metadata.serialId.bundleId  metadata.serialId.bundleSize  \\\n",
       "0                           6                             1   \n",
       "1                           7                             1   \n",
       "2                           8                             1   \n",
       "3                           9                             1   \n",
       "4                          10                             1   \n",
       "\n",
       "   metadata.serialId.recordId      ...       payload.data.coreData.msgCnt  \\\n",
       "0                           3      ...                                 56   \n",
       "1                           4      ...                                 58   \n",
       "2                           5      ...                                 59   \n",
       "3                           6      ...                                 60   \n",
       "4                           7      ...                                 62   \n",
       "\n",
       "  payload.data.coreData.position.elevation  \\\n",
       "0                                   2195.5   \n",
       "1                                   2195.6   \n",
       "2                                   2195.6   \n",
       "3                                   2195.7   \n",
       "4                                   2195.7   \n",
       "\n",
       "   payload.data.coreData.position.latitude  \\\n",
       "0                                41.296952   \n",
       "1                                41.296961   \n",
       "2                                41.296966   \n",
       "3                                41.296971   \n",
       "4                                41.296980   \n",
       "\n",
       "   payload.data.coreData.position.longitude  payload.data.coreData.secMark  \\\n",
       "0                               -105.591829                          56100   \n",
       "1                               -105.591877                          56300   \n",
       "2                               -105.591900                          56400   \n",
       "3                               -105.591924                          56500   \n",
       "4                               -105.591972                          56700   \n",
       "\n",
       "  payload.data.coreData.speed  \\\n",
       "0                       20.54   \n",
       "1                       20.62   \n",
       "2                       20.62   \n",
       "3                       20.62   \n",
       "4                       20.82   \n",
       "\n",
       "                                 payload.data.partII  \\\n",
       "0  [{'id': 'VEHICLESAFETYEXT', 'value': {'pathHis...   \n",
       "1  [{'id': 'VEHICLESAFETYEXT', 'value': {'pathHis...   \n",
       "2  [{'id': 'VEHICLESAFETYEXT', 'value': {'pathHis...   \n",
       "3  [{'id': 'VEHICLESAFETYEXT', 'value': {'pathHis...   \n",
       "4  [{'id': 'VEHICLESAFETYEXT', 'value': {'pathHis...   \n",
       "\n",
       "                           payload.dataType payload.schemaVersion  \\\n",
       "0  us.dot.its.jpo.ode.plugin.j2735.J2735Bsm                     1   \n",
       "1  us.dot.its.jpo.ode.plugin.j2735.J2735Bsm                     1   \n",
       "2  us.dot.its.jpo.ode.plugin.j2735.J2735Bsm                     1   \n",
       "3  us.dot.its.jpo.ode.plugin.j2735.J2735Bsm                     1   \n",
       "4  us.dot.its.jpo.ode.plugin.j2735.J2735Bsm                     1   \n",
       "\n",
       "  schemaVersion  \n",
       "0             1  \n",
       "1             1  \n",
       "2             1  \n",
       "3             1  \n",
       "4             1  \n",
       "\n",
       "[5 rows x 37 columns]"
      ]
     },
     "execution_count": 10,
     "metadata": {},
     "output_type": "execute_result"
    }
   ],
   "source": [
    "from pandas.io.json import json_normalize\n",
    "\n",
    "file_json = json.load(open(local_directory + \"merged_file.json\",\"r\"))\n",
    "\n",
    "# for element in file_json: \n",
    "#     del element['partII'] \n",
    "\n",
    "result = json_normalize(data=file_json, meta=['metadata', ['payload', 'data']])\n",
    "result.head()"
   ]
  },
  {
   "cell_type": "markdown",
   "metadata": {},
   "source": [
    "### Do some basic analysis on the speed"
   ]
  },
  {
   "cell_type": "code",
   "execution_count": 11,
   "metadata": {},
   "outputs": [
    {
     "data": {
      "text/plain": [
       "count    17.000000\n",
       "mean     21.096471\n",
       "std       0.363334\n",
       "min      20.540000\n",
       "25%      20.820000\n",
       "50%      21.120000\n",
       "75%      21.400000\n",
       "max      21.640000\n",
       "Name: payload.data.coreData.speed, dtype: float64"
      ]
     },
     "execution_count": 11,
     "metadata": {},
     "output_type": "execute_result"
    }
   ],
   "source": [
    "result['payload.data.coreData.speed'].describe()"
   ]
  },
  {
   "cell_type": "markdown",
   "metadata": {},
   "source": [
    "### Convert time by removing UTC and setting to time value"
   ]
  },
  {
   "cell_type": "code",
   "execution_count": 12,
   "metadata": {},
   "outputs": [
    {
     "data": {
      "text/plain": [
       "0    2017-08-15 23:46:00.645\n",
       "1    2017-08-15 23:46:00.656\n",
       "2    2017-08-15 23:46:00.667\n",
       "3    2017-08-15 23:46:00.674\n",
       "4    2017-08-15 23:46:00.690\n",
       "5    2017-08-15 23:46:00.715\n",
       "6    2017-08-15 23:46:00.722\n",
       "7    2017-08-15 23:46:00.734\n",
       "8    2017-08-15 23:46:00.753\n",
       "9    2017-08-15 23:46:00.761\n",
       "10   2017-08-15 23:46:00.769\n",
       "11   2017-08-15 23:46:00.783\n",
       "12   2017-08-15 23:46:00.800\n",
       "13   2017-08-15 23:46:00.861\n",
       "14   2017-08-15 23:46:00.902\n",
       "15   2017-08-15 23:46:00.914\n",
       "16   2017-08-15 23:46:00.962\n",
       "Name: metadata.generatedAt, dtype: datetime64[ns]"
      ]
     },
     "execution_count": 12,
     "metadata": {},
     "output_type": "execute_result"
    }
   ],
   "source": [
    "result['metadata.generatedAt']= result['metadata.generatedAt'].str[:-5]\n",
    "result['metadata.generatedAt'] = pd.to_datetime(result['metadata.generatedAt'])\n",
    "result['metadata.generatedAt']"
   ]
  },
  {
   "cell_type": "markdown",
   "metadata": {},
   "source": [
    "### Plot time vs speed"
   ]
  },
  {
   "cell_type": "code",
   "execution_count": 13,
   "metadata": {},
   "outputs": [
    {
     "data": {
      "text/plain": [
       "[<matplotlib.lines.Line2D at 0x10ce2fac8>]"
      ]
     },
     "execution_count": 13,
     "metadata": {},
     "output_type": "execute_result"
    },
    {
     "data": {
      "image/png": "[encoded data removed]",
      "text/plain": [
       "<matplotlib.figure.Figure at 0x109b4eb38>"
      ]
     },
     "metadata": {},
     "output_type": "display_data"
    }
   ],
   "source": [
    "import matplotlib.pyplot as plt\n",
    "%matplotlib inline\n",
    "\n",
    "plt.plot(result['metadata.generatedAt'], result['payload.data.coreData.speed'])"
   ]
  },
  {
   "cell_type": "code",
   "execution_count": null,
   "metadata": {
    "collapsed": true
   },
   "outputs": [],
   "source": []
  }
 ],
 "metadata": {
  "kernelspec": {
   "display_name": "Python 3",
   "language": "python",
   "name": "python3"
  },
  "language_info": {
   "codemirror_mode": {
    "name": "ipython",
    "version": 3
   },
   "file_extension": ".py",
   "mimetype": "text/x-python",
   "name": "python",
   "nbconvert_exporter": "python",
   "pygments_lexer": "ipython3",
   "version": "3.6.1"
  }
 },
 "nbformat": 4,
 "nbformat_minor": 1
}
