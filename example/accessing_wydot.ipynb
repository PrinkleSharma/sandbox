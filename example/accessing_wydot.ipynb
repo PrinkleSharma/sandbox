{
 "cells": [
  {
   "cell_type": "markdown",
   "metadata": {
    "collapsed": true
   },
   "source": [
    "### The goal of this notebook is to provide a basic example of how to access the USDOT Intelligent Transportation System (ITS) Joint Program Office (JPO) Wyoming Connected Vehcile Pilot data through the Data Program Sandbox.\n",
    "\n",
    "Objective of the notebook\n",
    "- Show how to access WY CV pilot data on the sandbox\n",
    "- Conduct basic analysis with the data\n",
    "\n",
    "----"
   ]
  },
  {
   "cell_type": "markdown",
   "metadata": {},
   "source": [
    "### Load key libraries for the work \n",
    "**You will need to install these libraries before running this notebook**\n",
    "- boto3: AWS python library (http://boto3.readthedocs.io/en/latest/)\n",
    "- pandas: Python Data Analysis Library (http://pandas.pydata.org)"
   ]
  },
  {
   "cell_type": "code",
   "execution_count": 1,
   "metadata": {},
   "outputs": [],
   "source": [
    "import boto3\n",
    "import pandas as pd"
   ]
  },
  {
   "cell_type": "markdown",
   "metadata": {},
   "source": [
    "### Create session and client variable for accessing S3"
   ]
  },
  {
   "cell_type": "code",
   "execution_count": 2,
   "metadata": {},
   "outputs": [],
   "source": [
    "session = boto3.Session()\n",
    "client = session.client('s3')"
   ]
  },
  {
   "cell_type": "markdown",
   "metadata": {},
   "source": [
    "### List subfolders to determine which hours data was received on Nov 20"
   ]
  },
  {
   "cell_type": "code",
   "execution_count": 16,
   "metadata": {},
   "outputs": [
    {
     "name": "stdout",
     "output_type": "stream",
     "text": [
      "2\n",
      "subfolder :  wydot/BSM/2017/11/20/12/\n",
      "subfolder :  wydot/BSM/2017/11/20/13/\n"
     ]
    }
   ],
   "source": [
    "result =  client.list_objects(Bucket = 'usdot-its-cvpilot-public-data', Delimiter='/', Prefix='wydot/BSM/2017/11/20/')\n",
    "\n",
    "print(len(result.get('CommonPrefixes')))\n",
    "\n",
    "if result.get('CommonPrefixes') is not None:\n",
    "    for o in result.get('CommonPrefixes'):\n",
    "        print ('subfolder : ', o.get('Prefix'))\n",
    "else:\n",
    "    print('No folder found for that prefix')"
   ]
  },
  {
   "cell_type": "markdown",
   "metadata": {},
   "source": [
    "### Function for pulling file keys from the AWS S3 bucket"
   ]
  },
  {
   "cell_type": "code",
   "execution_count": 15,
   "metadata": {},
   "outputs": [],
   "source": [
    "def dir_keys(client, bucket, prefix='', filekeys=[]):\n",
    "    \"\"\"\n",
    "    Lists all file keys from a given prefix in an S3 bucket.  If no prefix is given all file keys are returned\n",
    "\n",
    "    :param client: S3 connection object\n",
    "    :param bucket: Name of bucket to search\n",
    "    :param prefix: Prefix for a given folder\n",
    "    :param filekeys: list for filekeys\n",
    "    :return: updated filekey list with added files from search\n",
    "    \"\"\"\n",
    "    paginator = client.get_paginator('list_objects_v2')\n",
    "    for result in paginator.paginate(Bucket=bucket, Delimiter='/', Prefix=prefix):\n",
    "        if result.get('Contents') is not None:\n",
    "            for file in result.get('Contents'):\n",
    "                if file.get('Key') != 'unknownDataType':\n",
    "                    filekeys.append(file.get('Key'))\n",
    "        if result.get('CommonPrefixes') is not None:\n",
    "            for subdir in result.get('CommonPrefixes'):\n",
    "                dir_keys(client, bucket, subdir.get('Prefix'), filekeys)\n",
    "    return filekeys\n"
   ]
  },
  {
   "cell_type": "markdown",
   "metadata": {},
   "source": [
    "### Pull all file keys for Nov 20 and determine the number of files"
   ]
  },
  {
   "cell_type": "code",
   "execution_count": 17,
   "metadata": {},
   "outputs": [
    {
     "name": "stdout",
     "output_type": "stream",
     "text": [
      "Total number of files: 94\n"
     ]
    }
   ],
   "source": [
    "filekeys = dir_keys(client, 'usdot-its-cvpilot-public-data', 'wydot/BSM/2017/11/20/')\n",
    "print('Total number of files:', str(len(filekeys)))"
   ]
  },
  {
   "cell_type": "markdown",
   "metadata": {},
   "source": [
    "### Create local directory and download files to do analysis on"
   ]
  },
  {
   "cell_type": "code",
   "execution_count": 18,
   "metadata": {},
   "outputs": [
    {
     "name": "stdout",
     "output_type": "stream",
     "text": [
      "94 Files loaded to /tmp/\n"
     ]
    }
   ],
   "source": [
    "# Create local directory\n",
    "import os\n",
    "cwd = os.getcwd()\n",
    "local_directory = cwd + os.sep + 'tmp' + os.sep\n",
    "if not os.path.exists(local_directory):\n",
    "    os.makedirs(local_directory)\n",
    "\n",
    "# Download Files\n",
    "for file in filekeys:\n",
    "    client.download_file('usdot-its-cvpilot-public-data', file, local_directory + file.split('/')[-1])\n",
    "print('{} Files loaded to {}'.format(str(len(os.listdir(local_directory))), '/tmp/'))"
   ]
  },
  {
   "cell_type": "markdown",
   "metadata": {},
   "source": [
    "### Look at one of the raw JSON files"
   ]
  },
  {
   "cell_type": "code",
   "execution_count": 22,
   "metadata": {},
   "outputs": [
    {
     "name": "stdout",
     "output_type": "stream",
     "text": [
      "{\"metadata\":{\"logFileName\":\"bsmTx_1511786692_fe80::226:adff:fe05:14c1.csv\",\"recordType\":\"bsmTx\",\"payloadType\":\"us.dot.its.jpo.ode.model.OdeBsmPayload\",\"serialId\":{\"streamId\":\"5df4d384-dae1-4dcc-b662-95cd7e7bde5f\",\"bundleSize\":1,\"bundleId\":4096,\"recordId\":2,\"serialNumber\":0},\"odeReceivedAt\":\"2017-11-27T12:50:16.377Z[UTC]\",\"schemaVersion\":3,\"recordGeneratedAt\":\"2017-11-20T12:13:36.398Z[UTC]\",\"recordGeneratedBy\":\"OBU\",\"validSignature\":true,\"sanitized\":true},\"payload\":{\"dataType\":\"us.dot.its.jpo.ode.plugin.j2735.J2735Bsm\",\"data\":{\"coreData\":{\"msgCnt\":66,\"id\":\"3DEF0000\",\"secMark\":36400,\"position\":{\"latitude\":41.1135612,\"longitude\":-104.8557380,\"elevation\":1856.8},\"accelSet\":{\"accelYaw\":0.00},\"accuracy\":{\"semiMajor\":1.90,\"semiMinor\":2.90},\"transmission\":\"NEUTRAL\",\"speed\":19.44,\"heading\":259.7250,\"brakes\":{\"wheelBrakes\":{\"leftFront\":false,\"rightFront\":false,\"unavailable\":true,\"leftRear\":false,\"rightRear\":false},\"traction\":\"unavailable\",\"abs\":\"unavailable\",\"scs\":\"unavailable\",\"brakeBoost\":\"unavailable\",\"auxBrakes\":\"unavailable\"},\"size\":{\"width\":490,\"length\":1190}},\"partII\":[{\"id\":\"VehicleSafetyExtensions\",\"value\":{\"pathHistory\":{\"crumbData\":[{\"elevationOffset\":1.2,\"latOffset\":-0.0000820,\"lonOffset\":-0.0004320,\"timeOffset\":1.89},{\"elevationOffset\":2.4,\"latOffset\":-0.0002066,\"lonOffset\":-0.0008232,\"timeOffset\":3.70},{\"elevationOffset\":3.4,\"latOffset\":-0.0003961,\"lonOffset\":-0.0012306,\"timeOffset\":5.70},{\"elevationOffset\":4.1,\"latOffset\":-0.0008211,\"lonOffset\":-0.0019247,\"timeOffset\":9.39}]},\"pathPrediction\":{\"confidence\":30.0,\"radiusOfCurve\":2.7}}},{\"id\":\"SupplementalVehicleExtensions\",\"value\":{\"classDetails\":{\"fuelType\":\"unknownFuel\",\"hpmsType\":\"none\",\"keyType\":0,\"regional\":[],\"role\":\"basicVehicle\"},\"vehicleData\":{\"height\":3.70},\"weatherProbe\":{},\"regional\":[]}}]}}}\n"
     ]
    }
   ],
   "source": [
    "with open(\"./tmp/wydot-filtered-bsm-1511788035889.json\") as in_f:\n",
    "    for line in in_f:\n",
    "        print(line)"
   ]
  },
  {
   "cell_type": "markdown",
   "metadata": {},
   "source": [
    "### Reformat it to make it easier to view"
   ]
  },
  {
   "cell_type": "code",
   "execution_count": 23,
   "metadata": {},
   "outputs": [
    {
     "name": "stdout",
     "output_type": "stream",
     "text": [
      "{'metadata': {'logFileName': 'bsmTx_1511786692_fe80::226:adff:fe05:14c1.csv',\n",
      "              'odeReceivedAt': '2017-11-27T12:50:16.377Z[UTC]',\n",
      "              'payloadType': 'us.dot.its.jpo.ode.model.OdeBsmPayload',\n",
      "              'recordGeneratedAt': '2017-11-20T12:13:36.398Z[UTC]',\n",
      "              'recordGeneratedBy': 'OBU',\n",
      "              'recordType': 'bsmTx',\n",
      "              'sanitized': True,\n",
      "              'schemaVersion': 3,\n",
      "              'serialId': {'bundleId': 4096,\n",
      "                           'bundleSize': 1,\n",
      "                           'recordId': 2,\n",
      "                           'serialNumber': 0,\n",
      "                           'streamId': '5df4d384-dae1-4dcc-b662-95cd7e7bde5f'},\n",
      "              'validSignature': True},\n",
      " 'payload': {'data': {'coreData': {'accelSet': {'accelYaw': 0.0},\n",
      "                                   'accuracy': {'semiMajor': 1.9,\n",
      "                                                'semiMinor': 2.9},\n",
      "                                   'brakes': {'abs': 'unavailable',\n",
      "                                              'auxBrakes': 'unavailable',\n",
      "                                              'brakeBoost': 'unavailable',\n",
      "                                              'scs': 'unavailable',\n",
      "                                              'traction': 'unavailable',\n",
      "                                              'wheelBrakes': {'leftFront': False,\n",
      "                                                              'leftRear': False,\n",
      "                                                              'rightFront': False,\n",
      "                                                              'rightRear': False,\n",
      "                                                              'unavailable': True}},\n",
      "                                   'heading': 259.725,\n",
      "                                   'id': '3DEF0000',\n",
      "                                   'msgCnt': 66,\n",
      "                                   'position': {'elevation': 1856.8,\n",
      "                                                'latitude': 41.1135612,\n",
      "                                                'longitude': -104.855738},\n",
      "                                   'secMark': 36400,\n",
      "                                   'size': {'length': 1190, 'width': 490},\n",
      "                                   'speed': 19.44,\n",
      "                                   'transmission': 'NEUTRAL'},\n",
      "                      'partII': [{'id': 'VehicleSafetyExtensions',\n",
      "                                  'value': {'pathHistory': {'crumbData': [{'elevationOffset': 1.2,\n",
      "                                                                           'latOffset': -8.2e-05,\n",
      "                                                                           'lonOffset': -0.000432,\n",
      "                                                                           'timeOffset': 1.89},\n",
      "                                                                          {'elevationOffset': 2.4,\n",
      "                                                                           'latOffset': -0.0002066,\n",
      "                                                                           'lonOffset': -0.0008232,\n",
      "                                                                           'timeOffset': 3.7},\n",
      "                                                                          {'elevationOffset': 3.4,\n",
      "                                                                           'latOffset': -0.0003961,\n",
      "                                                                           'lonOffset': -0.0012306,\n",
      "                                                                           'timeOffset': 5.7},\n",
      "                                                                          {'elevationOffset': 4.1,\n",
      "                                                                           'latOffset': -0.0008211,\n",
      "                                                                           'lonOffset': -0.0019247,\n",
      "                                                                           'timeOffset': 9.39}]},\n",
      "                                            'pathPrediction': {'confidence': 30.0,\n",
      "                                                               'radiusOfCurve': 2.7}}},\n",
      "                                 {'id': 'SupplementalVehicleExtensions',\n",
      "                                  'value': {'classDetails': {'fuelType': 'unknownFuel',\n",
      "                                                             'hpmsType': 'none',\n",
      "                                                             'keyType': 0,\n",
      "                                                             'regional': [],\n",
      "                                                             'role': 'basicVehicle'},\n",
      "                                            'regional': [],\n",
      "                                            'vehicleData': {'height': 3.7},\n",
      "                                            'weatherProbe': {}}}]},\n",
      "             'dataType': 'us.dot.its.jpo.ode.plugin.j2735.J2735Bsm'}}\n"
     ]
    }
   ],
   "source": [
    "import pprint\n",
    "import json\n",
    "data = json.loads(open(\"./tmp/wydot-filtered-bsm-1511788035889.json\").read())\n",
    "pprint.pprint(data)"
   ]
  },
  {
   "cell_type": "markdown",
   "metadata": {},
   "source": [
    "### Combine the JSON files into a single JSON file"
   ]
  },
  {
   "cell_type": "code",
   "execution_count": 24,
   "metadata": {},
   "outputs": [],
   "source": [
    "import glob\n",
    "\n",
    "read_files = glob.glob(local_directory + \"*.json\")\n",
    "with open(local_directory + \"merged_file.json\", \"w\") as outfile:\n",
    "    data = []\n",
    "    for f in read_files:\n",
    "        data.append(open(f, \"r\").read())\n",
    "    outfile.write(\"[\" + ','.join(data[1:]) + \"]\")"
   ]
  },
  {
   "cell_type": "markdown",
   "metadata": {},
   "source": [
    "### Load file into data structure\n",
    "*Data is in J2735 format http://standards.sae.org/j2735_201603/*"
   ]
  },
  {
   "cell_type": "code",
   "execution_count": 27,
   "metadata": {},
   "outputs": [
    {
     "data": {
      "text/html": [
       "<div>\n",
       "<style scoped>\n",
       "    .dataframe tbody tr th:only-of-type {\n",
       "        vertical-align: middle;\n",
       "    }\n",
       "\n",
       "    .dataframe tbody tr th {\n",
       "        vertical-align: top;\n",
       "    }\n",
       "\n",
       "    .dataframe thead th {\n",
       "        text-align: right;\n",
       "    }\n",
       "</style>\n",
       "<table border=\"1\" class=\"dataframe\">\n",
       "  <thead>\n",
       "    <tr style=\"text-align: right;\">\n",
       "      <th></th>\n",
       "      <th>metadata.logFileName</th>\n",
       "      <th>metadata.odeReceivedAt</th>\n",
       "      <th>metadata.payloadType</th>\n",
       "      <th>metadata.recordGeneratedAt</th>\n",
       "      <th>metadata.recordGeneratedBy</th>\n",
       "      <th>metadata.recordType</th>\n",
       "      <th>metadata.sanitized</th>\n",
       "      <th>metadata.schemaVersion</th>\n",
       "      <th>metadata.serialId.bundleId</th>\n",
       "      <th>metadata.serialId.bundleSize</th>\n",
       "      <th>...</th>\n",
       "      <th>payload.data.coreData.position.elevation</th>\n",
       "      <th>payload.data.coreData.position.latitude</th>\n",
       "      <th>payload.data.coreData.position.longitude</th>\n",
       "      <th>payload.data.coreData.secMark</th>\n",
       "      <th>payload.data.coreData.size.length</th>\n",
       "      <th>payload.data.coreData.size.width</th>\n",
       "      <th>payload.data.coreData.speed</th>\n",
       "      <th>payload.data.coreData.transmission</th>\n",
       "      <th>payload.data.partII</th>\n",
       "      <th>payload.dataType</th>\n",
       "    </tr>\n",
       "  </thead>\n",
       "  <tbody>\n",
       "    <tr>\n",
       "      <th>0</th>\n",
       "      <td>bsmTx_1511786692_fe80::226:adff:fe05:14c1.csv</td>\n",
       "      <td>2017-11-27T12:50:16.377Z[UTC]</td>\n",
       "      <td>us.dot.its.jpo.ode.model.OdeBsmPayload</td>\n",
       "      <td>2017-11-20T12:14:06.393Z[UTC]</td>\n",
       "      <td>OBU</td>\n",
       "      <td>bsmTx</td>\n",
       "      <td>True</td>\n",
       "      <td>3</td>\n",
       "      <td>4096</td>\n",
       "      <td>1</td>\n",
       "      <td>...</td>\n",
       "      <td>1865.7</td>\n",
       "      <td>41.115620</td>\n",
       "      <td>-104.862368</td>\n",
       "      <td>6400</td>\n",
       "      <td>1190</td>\n",
       "      <td>490</td>\n",
       "      <td>22.68</td>\n",
       "      <td>NEUTRAL</td>\n",
       "      <td>[{'id': 'VehicleSafetyExtensions', 'value': {'...</td>\n",
       "      <td>us.dot.its.jpo.ode.plugin.j2735.J2735Bsm</td>\n",
       "    </tr>\n",
       "    <tr>\n",
       "      <th>1</th>\n",
       "      <td>bsmTx_1511786692_fe80::226:adff:fe05:14c1.csv</td>\n",
       "      <td>2017-11-27T12:50:16.377Z[UTC]</td>\n",
       "      <td>us.dot.its.jpo.ode.model.OdeBsmPayload</td>\n",
       "      <td>2017-11-20T12:14:35.797Z[UTC]</td>\n",
       "      <td>OBU</td>\n",
       "      <td>bsmTx</td>\n",
       "      <td>True</td>\n",
       "      <td>3</td>\n",
       "      <td>4096</td>\n",
       "      <td>1</td>\n",
       "      <td>...</td>\n",
       "      <td>1872.0</td>\n",
       "      <td>41.117003</td>\n",
       "      <td>-104.870628</td>\n",
       "      <td>35800</td>\n",
       "      <td>1190</td>\n",
       "      <td>490</td>\n",
       "      <td>24.86</td>\n",
       "      <td>NEUTRAL</td>\n",
       "      <td>[{'id': 'VehicleSafetyExtensions', 'value': {'...</td>\n",
       "      <td>us.dot.its.jpo.ode.plugin.j2735.J2735Bsm</td>\n",
       "    </tr>\n",
       "    <tr>\n",
       "      <th>2</th>\n",
       "      <td>bsmTx_1511786692_fe80::226:adff:fe05:14c1.csv</td>\n",
       "      <td>2017-11-27T12:50:16.377Z[UTC]</td>\n",
       "      <td>us.dot.its.jpo.ode.model.OdeBsmPayload</td>\n",
       "      <td>2017-11-20T12:15:03.496Z[UTC]</td>\n",
       "      <td>OBU</td>\n",
       "      <td>bsmTx</td>\n",
       "      <td>True</td>\n",
       "      <td>3</td>\n",
       "      <td>4096</td>\n",
       "      <td>1</td>\n",
       "      <td>...</td>\n",
       "      <td>1885.6</td>\n",
       "      <td>41.116972</td>\n",
       "      <td>-104.878669</td>\n",
       "      <td>3500</td>\n",
       "      <td>1190</td>\n",
       "      <td>490</td>\n",
       "      <td>23.62</td>\n",
       "      <td>NEUTRAL</td>\n",
       "      <td>[{'id': 'VehicleSafetyExtensions', 'value': {'...</td>\n",
       "      <td>us.dot.its.jpo.ode.plugin.j2735.J2735Bsm</td>\n",
       "    </tr>\n",
       "    <tr>\n",
       "      <th>3</th>\n",
       "      <td>bsmTx_1511786692_fe80::226:adff:fe05:14c1.csv</td>\n",
       "      <td>2017-11-27T12:50:16.377Z[UTC]</td>\n",
       "      <td>us.dot.its.jpo.ode.model.OdeBsmPayload</td>\n",
       "      <td>2017-11-20T12:15:36.395Z[UTC]</td>\n",
       "      <td>OBU</td>\n",
       "      <td>bsmTx</td>\n",
       "      <td>True</td>\n",
       "      <td>3</td>\n",
       "      <td>4096</td>\n",
       "      <td>1</td>\n",
       "      <td>...</td>\n",
       "      <td>1900.8</td>\n",
       "      <td>41.116942</td>\n",
       "      <td>-104.887766</td>\n",
       "      <td>36400</td>\n",
       "      <td>1190</td>\n",
       "      <td>490</td>\n",
       "      <td>24.30</td>\n",
       "      <td>NEUTRAL</td>\n",
       "      <td>[{'id': 'VehicleSafetyExtensions', 'value': {'...</td>\n",
       "      <td>us.dot.its.jpo.ode.plugin.j2735.J2735Bsm</td>\n",
       "    </tr>\n",
       "    <tr>\n",
       "      <th>4</th>\n",
       "      <td>bsmTx_1511786692_fe80::226:adff:fe05:14c1.csv</td>\n",
       "      <td>2017-11-27T12:50:16.377Z[UTC]</td>\n",
       "      <td>us.dot.its.jpo.ode.model.OdeBsmPayload</td>\n",
       "      <td>2017-11-20T12:16:06.394Z[UTC]</td>\n",
       "      <td>OBU</td>\n",
       "      <td>bsmTx</td>\n",
       "      <td>True</td>\n",
       "      <td>3</td>\n",
       "      <td>4096</td>\n",
       "      <td>1</td>\n",
       "      <td>...</td>\n",
       "      <td>1903.9</td>\n",
       "      <td>41.116909</td>\n",
       "      <td>-104.896964</td>\n",
       "      <td>6400</td>\n",
       "      <td>1190</td>\n",
       "      <td>490</td>\n",
       "      <td>27.38</td>\n",
       "      <td>NEUTRAL</td>\n",
       "      <td>[{'id': 'VehicleSafetyExtensions', 'value': {'...</td>\n",
       "      <td>us.dot.its.jpo.ode.plugin.j2735.J2735Bsm</td>\n",
       "    </tr>\n",
       "  </tbody>\n",
       "</table>\n",
       "<p>5 rows × 41 columns</p>\n",
       "</div>"
      ],
      "text/plain": [
       "                            metadata.logFileName  \\\n",
       "0  bsmTx_1511786692_fe80::226:adff:fe05:14c1.csv   \n",
       "1  bsmTx_1511786692_fe80::226:adff:fe05:14c1.csv   \n",
       "2  bsmTx_1511786692_fe80::226:adff:fe05:14c1.csv   \n",
       "3  bsmTx_1511786692_fe80::226:adff:fe05:14c1.csv   \n",
       "4  bsmTx_1511786692_fe80::226:adff:fe05:14c1.csv   \n",
       "\n",
       "          metadata.odeReceivedAt                    metadata.payloadType  \\\n",
       "0  2017-11-27T12:50:16.377Z[UTC]  us.dot.its.jpo.ode.model.OdeBsmPayload   \n",
       "1  2017-11-27T12:50:16.377Z[UTC]  us.dot.its.jpo.ode.model.OdeBsmPayload   \n",
       "2  2017-11-27T12:50:16.377Z[UTC]  us.dot.its.jpo.ode.model.OdeBsmPayload   \n",
       "3  2017-11-27T12:50:16.377Z[UTC]  us.dot.its.jpo.ode.model.OdeBsmPayload   \n",
       "4  2017-11-27T12:50:16.377Z[UTC]  us.dot.its.jpo.ode.model.OdeBsmPayload   \n",
       "\n",
       "      metadata.recordGeneratedAt metadata.recordGeneratedBy  \\\n",
       "0  2017-11-20T12:14:06.393Z[UTC]                        OBU   \n",
       "1  2017-11-20T12:14:35.797Z[UTC]                        OBU   \n",
       "2  2017-11-20T12:15:03.496Z[UTC]                        OBU   \n",
       "3  2017-11-20T12:15:36.395Z[UTC]                        OBU   \n",
       "4  2017-11-20T12:16:06.394Z[UTC]                        OBU   \n",
       "\n",
       "  metadata.recordType  metadata.sanitized  metadata.schemaVersion  \\\n",
       "0               bsmTx                True                       3   \n",
       "1               bsmTx                True                       3   \n",
       "2               bsmTx                True                       3   \n",
       "3               bsmTx                True                       3   \n",
       "4               bsmTx                True                       3   \n",
       "\n",
       "   metadata.serialId.bundleId  metadata.serialId.bundleSize  \\\n",
       "0                        4096                             1   \n",
       "1                        4096                             1   \n",
       "2                        4096                             1   \n",
       "3                        4096                             1   \n",
       "4                        4096                             1   \n",
       "\n",
       "                     ...                     \\\n",
       "0                    ...                      \n",
       "1                    ...                      \n",
       "2                    ...                      \n",
       "3                    ...                      \n",
       "4                    ...                      \n",
       "\n",
       "   payload.data.coreData.position.elevation  \\\n",
       "0                                    1865.7   \n",
       "1                                    1872.0   \n",
       "2                                    1885.6   \n",
       "3                                    1900.8   \n",
       "4                                    1903.9   \n",
       "\n",
       "   payload.data.coreData.position.latitude  \\\n",
       "0                                41.115620   \n",
       "1                                41.117003   \n",
       "2                                41.116972   \n",
       "3                                41.116942   \n",
       "4                                41.116909   \n",
       "\n",
       "  payload.data.coreData.position.longitude  payload.data.coreData.secMark  \\\n",
       "0                              -104.862368                           6400   \n",
       "1                              -104.870628                          35800   \n",
       "2                              -104.878669                           3500   \n",
       "3                              -104.887766                          36400   \n",
       "4                              -104.896964                           6400   \n",
       "\n",
       "   payload.data.coreData.size.length  payload.data.coreData.size.width  \\\n",
       "0                               1190                               490   \n",
       "1                               1190                               490   \n",
       "2                               1190                               490   \n",
       "3                               1190                               490   \n",
       "4                               1190                               490   \n",
       "\n",
       "   payload.data.coreData.speed  payload.data.coreData.transmission  \\\n",
       "0                        22.68                             NEUTRAL   \n",
       "1                        24.86                             NEUTRAL   \n",
       "2                        23.62                             NEUTRAL   \n",
       "3                        24.30                             NEUTRAL   \n",
       "4                        27.38                             NEUTRAL   \n",
       "\n",
       "                                 payload.data.partII  \\\n",
       "0  [{'id': 'VehicleSafetyExtensions', 'value': {'...   \n",
       "1  [{'id': 'VehicleSafetyExtensions', 'value': {'...   \n",
       "2  [{'id': 'VehicleSafetyExtensions', 'value': {'...   \n",
       "3  [{'id': 'VehicleSafetyExtensions', 'value': {'...   \n",
       "4  [{'id': 'VehicleSafetyExtensions', 'value': {'...   \n",
       "\n",
       "                           payload.dataType  \n",
       "0  us.dot.its.jpo.ode.plugin.j2735.J2735Bsm  \n",
       "1  us.dot.its.jpo.ode.plugin.j2735.J2735Bsm  \n",
       "2  us.dot.its.jpo.ode.plugin.j2735.J2735Bsm  \n",
       "3  us.dot.its.jpo.ode.plugin.j2735.J2735Bsm  \n",
       "4  us.dot.its.jpo.ode.plugin.j2735.J2735Bsm  \n",
       "\n",
       "[5 rows x 41 columns]"
      ]
     },
     "execution_count": 27,
     "metadata": {},
     "output_type": "execute_result"
    }
   ],
   "source": [
    "from pandas.io.json import json_normalize\n",
    "\n",
    "file_json = json.load(open(local_directory + \"merged_file.json\",\"r\"))\n",
    "\n",
    "result = json_normalize(data=file_json, meta=['metadata', ['payload', 'data']])\n",
    "result.head()"
   ]
  },
  {
   "cell_type": "markdown",
   "metadata": {},
   "source": [
    "### Do some basic analysis on the speed"
   ]
  },
  {
   "cell_type": "code",
   "execution_count": 28,
   "metadata": {},
   "outputs": [
    {
     "data": {
      "text/plain": [
       "count    93.000000\n",
       "mean     25.503656\n",
       "std       4.656846\n",
       "min       5.620000\n",
       "25%      22.380000\n",
       "50%      27.020000\n",
       "75%      28.600000\n",
       "max      33.380000\n",
       "Name: payload.data.coreData.speed, dtype: float64"
      ]
     },
     "execution_count": 28,
     "metadata": {},
     "output_type": "execute_result"
    }
   ],
   "source": [
    "result['payload.data.coreData.speed'].describe()"
   ]
  },
  {
   "cell_type": "markdown",
   "metadata": {},
   "source": [
    "### Convert time by removing UTC and setting to time value"
   ]
  },
  {
   "cell_type": "code",
   "execution_count": 31,
   "metadata": {},
   "outputs": [
    {
     "data": {
      "text/plain": [
       "0    2017-11-20 12:14:06.393\n",
       "1    2017-11-20 12:14:35.797\n",
       "2    2017-11-20 12:15:03.496\n",
       "3    2017-11-20 12:15:36.395\n",
       "4    2017-11-20 12:16:06.394\n",
       "5    2017-11-20 12:16:36.399\n",
       "6    2017-11-20 12:17:06.392\n",
       "7    2017-11-20 12:17:36.391\n",
       "8    2017-11-20 12:18:06.386\n",
       "9    2017-11-20 12:18:36.388\n",
       "10   2017-11-20 12:19:03.225\n",
       "11   2017-11-20 12:19:36.389\n",
       "12   2017-11-20 12:20:06.395\n",
       "13   2017-11-20 12:20:36.386\n",
       "14   2017-11-20 12:21:06.424\n",
       "15   2017-11-20 12:21:36.395\n",
       "16   2017-11-20 12:22:04.396\n",
       "17   2017-11-20 12:22:36.391\n",
       "18   2017-11-20 12:23:06.394\n",
       "19   2017-11-20 12:23:36.390\n",
       "20   2017-11-20 12:24:06.398\n",
       "21   2017-11-20 12:24:36.386\n",
       "22   2017-11-20 12:25:36.390\n",
       "23   2017-11-20 12:26:06.400\n",
       "24   2017-11-20 12:26:36.394\n",
       "25   2017-11-20 12:27:06.395\n",
       "26   2017-11-20 12:27:36.396\n",
       "27   2017-11-20 12:28:06.395\n",
       "28   2017-11-20 12:28:36.394\n",
       "29   2017-11-20 12:29:06.393\n",
       "               ...          \n",
       "63   2017-11-20 12:48:06.394\n",
       "64   2017-11-20 12:48:32.200\n",
       "65   2017-11-20 12:55:01.000\n",
       "66   2017-11-20 12:55:31.100\n",
       "67   2017-11-20 12:56:01.100\n",
       "68   2017-11-20 12:56:31.110\n",
       "69   2017-11-20 12:57:01.000\n",
       "70   2017-11-20 12:57:31.101\n",
       "71   2017-11-20 12:58:01.099\n",
       "72   2017-11-20 12:58:31.105\n",
       "73   2017-11-20 12:58:58.302\n",
       "74   2017-11-20 12:59:31.107\n",
       "75   2017-11-20 13:00:01.101\n",
       "76   2017-11-20 13:00:31.106\n",
       "77   2017-11-20 13:01:01.101\n",
       "78   2017-11-20 13:01:31.099\n",
       "79   2017-11-20 13:02:01.102\n",
       "80   2017-11-20 13:02:31.098\n",
       "81   2017-11-20 13:02:57.499\n",
       "82   2017-11-20 13:03:31.103\n",
       "83   2017-11-20 13:04:01.100\n",
       "84   2017-11-20 13:04:31.098\n",
       "85   2017-11-20 13:05:01.104\n",
       "86   2017-11-20 13:05:30.584\n",
       "87   2017-11-20 13:06:01.100\n",
       "88   2017-11-20 13:06:31.099\n",
       "89   2017-11-20 13:07:01.102\n",
       "90   2017-11-20 13:07:31.100\n",
       "91   2017-11-20 13:08:01.125\n",
       "92   2017-11-20 13:10:20.110\n",
       "Name: metadata.recordGeneratedAt, Length: 93, dtype: datetime64[ns]"
      ]
     },
     "execution_count": 31,
     "metadata": {},
     "output_type": "execute_result"
    }
   ],
   "source": [
    "result['metadata.recordGeneratedAt']= result['metadata.recordGeneratedAt'].str[:-5]\n",
    "result['metadata.recordGeneratedAt'] = pd.to_datetime(result['metadata.recordGeneratedAt'])\n",
    "result['metadata.recordGeneratedAt']"
   ]
  },
  {
   "cell_type": "markdown",
   "metadata": {},
   "source": [
    "### Plot time vs speed"
   ]
  },
  {
   "cell_type": "code",
   "execution_count": 33,
   "metadata": {},
   "outputs": [
    {
     "data": {
      "text/plain": [
       "[<matplotlib.lines.Line2D at 0x9e8f850>]"
      ]
     },
     "execution_count": 33,
     "metadata": {},
     "output_type": "execute_result"
    },
    {
     "data": {
      "image/png": "[encoded data removed]",
      "text/plain": [
       "<matplotlib.figure.Figure at 0x9dcdc10>"
      ]
     },
     "metadata": {},
     "output_type": "display_data"
    }
   ],
   "source": [
    "import matplotlib.pyplot as plt\n",
    "%matplotlib inline\n",
    "\n",
    "plt.plot(result['metadata.recordGeneratedAt'], result['payload.data.coreData.speed'])"
   ]
  }
 ],
 "metadata": {
  "kernelspec": {
   "display_name": "Python 3",
   "language": "python",
   "name": "python3"
  },
  "language_info": {
   "codemirror_mode": {
    "name": "ipython",
    "version": 3
   },
   "file_extension": ".py",
   "mimetype": "text/x-python",
   "name": "python",
   "nbconvert_exporter": "python",
   "pygments_lexer": "ipython3",
   "version": "3.6.3"
  }
 },
 "nbformat": 4,
 "nbformat_minor": 1
}
